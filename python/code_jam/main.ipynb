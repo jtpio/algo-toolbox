{
 "cells": [
  {
   "cell_type": "code",
   "execution_count": null,
   "metadata": {
    "collapsed": true
   },
   "outputs": [],
   "source": [
    "# Imports"
   ]
  },
  {
   "cell_type": "code",
   "execution_count": null,
   "metadata": {
    "collapsed": true
   },
   "outputs": [],
   "source": [
    "# Input and output files\n",
    "INPUT = '1.in'\n",
    "OUTPUT = '1.ans'"
   ]
  },
  {
   "cell_type": "code",
   "execution_count": null,
   "metadata": {
    "collapsed": true
   },
   "outputs": [],
   "source": [
    "def line(f):\n",
    "    \"\"\"\n",
    "    Read one line from the file f, strip it and return it\n",
    "    \"\"\"\n",
    "    return f.readline().strip()"
   ]
  },
  {
   "cell_type": "code",
   "execution_count": null,
   "metadata": {
    "collapsed": true
   },
   "outputs": [],
   "source": [
    "def solve(f_in, f_out, std_out=True):\n",
    "    fin = open(f_in, 'r')\n",
    "    fout = open(f_out, 'w')\n",
    "    \n",
    "    T = int(line(fin))\n",
    "    for t in range(T):\n",
    "        ans = 0\n",
    "        res_str = 'Case #%s: %s' % (t + 1, ans)\n",
    "        fout.write(res_str + '\\n')\n",
    "        if std_out:\n",
    "            print(res_str)"
   ]
  },
  {
   "cell_type": "code",
   "execution_count": null,
   "metadata": {
    "collapsed": false
   },
   "outputs": [],
   "source": [
    "solve(INPUT, OUTPUT)"
   ]
  }
 ],
 "metadata": {
  "kernelspec": {
   "display_name": "Python 3",
   "language": "python",
   "name": "python3"
  },
  "language_info": {
   "codemirror_mode": {
    "name": "ipython",
    "version": 3
   },
   "file_extension": ".py",
   "mimetype": "text/x-python",
   "name": "python",
   "nbconvert_exporter": "python",
   "pygments_lexer": "ipython3",
   "version": "3.5.1"
  }
 },
 "nbformat": 4,
 "nbformat_minor": 0
}
