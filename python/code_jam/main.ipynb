{
 "cells": [
  {
   "cell_type": "code",
   "execution_count": 1,
   "metadata": {
    "collapsed": true
   },
   "outputs": [],
   "source": [
    "# Imports"
   ]
  },
  {
   "cell_type": "code",
   "execution_count": 2,
   "metadata": {
    "collapsed": true
   },
   "outputs": [],
   "source": [
    "# Input and output files\n",
    "INPUT = '1.in'\n",
    "OUTPUT = '1.ans'"
   ]
  },
  {
   "cell_type": "code",
   "execution_count": 3,
   "metadata": {
    "collapsed": true
   },
   "outputs": [],
   "source": [
    "def line(f):\n",
    "    \"\"\"\n",
    "    Read one line from the file f, strip it and return it\n",
    "    \"\"\"\n",
    "    return f.readline().strip()"
   ]
  },
  {
   "cell_type": "code",
   "execution_count": 8,
   "metadata": {
    "collapsed": true
   },
   "outputs": [],
   "source": [
    "def solve(f_in, f_out, std_out=True):\n",
    "    fin = open(f_in, 'r')\n",
    "    fout = open(f_out, 'w')\n",
    "    \n",
    "    T = int(line(fin))\n",
    "    for t in range(1, T + 1):\n",
    "        res_str = 'Case #' + str(t) + ': '\n",
    "        fout.write(res_str + '\\r')\n",
    "        if std_out:\n",
    "            print(res_str)"
   ]
  },
  {
   "cell_type": "code",
   "execution_count": 12,
   "metadata": {
    "collapsed": false
   },
   "outputs": [
    {
     "name": "stdout",
     "output_type": "stream",
     "text": [
      "Case #1: \n",
      "Case #2: \n",
      "Case #3: \n",
      "Case #4: \n",
      "Case #5: \n"
     ]
    }
   ],
   "source": [
    "solve(INPUT, OUTPUT)"
   ]
  }
 ],
 "metadata": {
  "kernelspec": {
   "display_name": "Python 3",
   "language": "python",
   "name": "python3"
  },
  "language_info": {
   "codemirror_mode": {
    "name": "ipython",
    "version": 3
   },
   "file_extension": ".py",
   "mimetype": "text/x-python",
   "name": "python",
   "nbconvert_exporter": "python",
   "pygments_lexer": "ipython3",
   "version": "3.4.3"
  }
 },
 "nbformat": 4,
 "nbformat_minor": 0
}
